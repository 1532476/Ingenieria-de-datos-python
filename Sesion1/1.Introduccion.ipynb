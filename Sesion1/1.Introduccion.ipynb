{
 "cells": [
  {
   "cell_type": "code",
   "execution_count": null,
   "id": "23424bbd",
   "metadata": {},
   "outputs": [
    {
     "data": {
      "text/plain": [
       "'comentario doctstring'"
      ]
     },
     "execution_count": 3,
     "metadata": {},
     "output_type": "execute_result"
    }
   ],
   "source": [
    "# comentario 1\n",
    "'''comentario doctstring'''\n",
    "\n"
   ]
  },
  {
   "cell_type": "code",
   "execution_count": 6,
   "id": "cfbf3300",
   "metadata": {},
   "outputs": [
    {
     "name": "stdout",
     "output_type": "stream",
     "text": [
      "Manzana\n",
      "Platano\n",
      "Sandia\n"
     ]
    }
   ],
   "source": [
    "x,y,z  = 'Manzana','Platano','Sandia'\n",
    "\n",
    "print(x)\n",
    "print(y)\n",
    "print(z)"
   ]
  },
  {
   "cell_type": "code",
   "execution_count": 9,
   "id": "7e532312",
   "metadata": {},
   "outputs": [
    {
     "data": {
      "text/plain": [
       "[3, 'Manzana', [1, 5, 'Platano']]"
      ]
     },
     "execution_count": 9,
     "metadata": {},
     "output_type": "execute_result"
    }
   ],
   "source": [
    "#Listas\n",
    "\n",
    "lista1=  []\n",
    "lista2=  [3,5,8]\n",
    "lista3 = ['Manzana','Platano']\n",
    "lista4 = [3,'Manzana',3.4]\n",
    "lista5=  [3,'Manzana',[1,5,'Platano']]\n",
    "\n",
    "lista5"
   ]
  },
  {
   "cell_type": "code",
   "execution_count": 12,
   "id": "828461fa",
   "metadata": {},
   "outputs": [
    {
     "name": "stdout",
     "output_type": "stream",
     "text": [
      "3\n"
     ]
    }
   ],
   "source": [
    "# operador indice []\n",
    "print(lista5[0])"
   ]
  },
  {
   "cell_type": "code",
   "execution_count": 14,
   "id": "2fcbbaa2",
   "metadata": {},
   "outputs": [
    {
     "name": "stdout",
     "output_type": "stream",
     "text": [
      "Platano\n"
     ]
    }
   ],
   "source": [
    "print(lista5[2][2])"
   ]
  },
  {
   "cell_type": "code",
   "execution_count": 17,
   "id": "7bd9d058",
   "metadata": {},
   "outputs": [
    {
     "name": "stdout",
     "output_type": "stream",
     "text": [
      "[1, 5, 'Platano']\n"
     ]
    }
   ],
   "source": [
    "print(lista5[-1])"
   ]
  },
  {
   "cell_type": "code",
   "execution_count": 19,
   "id": "8ccf7196",
   "metadata": {},
   "outputs": [],
   "source": [
    "lista_aux = [12,13,14]\n"
   ]
  },
  {
   "cell_type": "code",
   "execution_count": null,
   "id": "3ad30341",
   "metadata": {},
   "outputs": [],
   "source": [
    "lista6.apped(lista_aux)\n",
    "print(lista6)"
   ]
  }
 ],
 "metadata": {
  "kernelspec": {
   "display_name": "Python 3",
   "language": "python",
   "name": "python3"
  },
  "language_info": {
   "codemirror_mode": {
    "name": "ipython",
    "version": 3
   },
   "file_extension": ".py",
   "mimetype": "text/x-python",
   "name": "python",
   "nbconvert_exporter": "python",
   "pygments_lexer": "ipython3",
   "version": "3.14.0"
  }
 },
 "nbformat": 4,
 "nbformat_minor": 5
}
