{
 "cells": [
  {
   "cell_type": "code",
   "execution_count": 1,
   "metadata": {},
   "outputs": [],
   "source": [
    "import random"
   ]
  },
  {
   "cell_type": "code",
   "execution_count": 2,
   "metadata": {},
   "outputs": [
    {
     "name": "stdout",
     "output_type": "stream",
     "text": [
      "[15, 63, 57, 0, 71, 22, 48, 24, 5, 62, 90, 51, 48, 73, 25, 10, 52, 97, 80, 51, 88, 86, 71, 95, 62, 84, 36, 66, 37, 44, 86, 57, 95, 0, 92, 62, 77, 4, 63, 55, 82, 67, 70, 93, 56, 62, 84, 69, 11, 74, 79, 19, 78, 19, 36, 17, 22, 80, 82, 3, 51, 16, 70, 11, 51, 65, 86, 86, 13, 74, 99, 98, 45, 5, 58, 54, 51, 3, 82, 48, 81, 81, 25, 95, 55, 64, 1, 22, 14, 6, 51, 68, 85, 37, 35, 40, 99, 53, 73, 86]\n"
     ]
    }
   ],
   "source": [
    "lista = [random.randint(0,100) for i in range(0,100)]\n",
    "print(lista)"
   ]
  },
  {
   "cell_type": "code",
   "execution_count": 3,
   "metadata": {},
   "outputs": [
    {
     "name": "stdout",
     "output_type": "stream",
     "text": [
      "5444\n"
     ]
    }
   ],
   "source": [
    "# funcion para sumar numeros pares\n",
    "def suma(lista):\n",
    "    pass\n",
    "print(sum(lista))"
   ]
  },
  {
   "cell_type": "code",
   "execution_count": 4,
   "metadata": {},
   "outputs": [
    {
     "name": "stdout",
     "output_type": "stream",
     "text": [
      "None\n"
     ]
    }
   ],
   "source": [
    "# funcion para buscar un elemento en una lista\n",
    "def buscar_elemento(lista, elemento):\n",
    "    pass\n",
    "\n",
    "print(buscar_elemento(lista, 1))"
   ]
  },
  {
   "cell_type": "code",
   "execution_count": 5,
   "metadata": {},
   "outputs": [
    {
     "name": "stdout",
     "output_type": "stream",
     "text": [
      "None\n"
     ]
    }
   ],
   "source": [
    "# Crear una función que reciba una lista de palabras y retorne un diccionario con \n",
    "# la cantidad de veces que aparece cada palabra.\n",
    "def contar_palabras(lista):\n",
    "    pass\n",
    "\n",
    "palabras = [\"python\", \"java\", \"python\", \"c++\", \"python\", \"java\"]\n",
    "resultado = contar_palabras(palabras)\n",
    "print(resultado)"
   ]
  },
  {
   "cell_type": "code",
   "execution_count": 6,
   "metadata": {},
   "outputs": [
    {
     "name": "stdout",
     "output_type": "stream",
     "text": [
      "None\n"
     ]
    }
   ],
   "source": [
    "# Crear una función que reciba un diccionario donde las llaves sean nombres y los valores sean notas.\n",
    "# Debe retornar el nombre del alumno con la nota más alta\n",
    "def mejor_alumno(diccionario):\n",
    "    pass\n",
    "\n",
    "notas = {\"Ana\": 15, \"Luis\": 18, \"María\": 17, \"Pedro\": 19}\n",
    "print(mejor_alumno(notas))  "
   ]
  }
 ],
 "metadata": {
  "kernelspec": {
   "display_name": "Python 3",
   "language": "python",
   "name": "python3"
  },
  "language_info": {
   "codemirror_mode": {
    "name": "ipython",
    "version": 3
   },
   "file_extension": ".py",
   "mimetype": "text/x-python",
   "name": "python",
   "nbconvert_exporter": "python",
   "pygments_lexer": "ipython3",
   "version": "3.14.0"
  },
  "orig_nbformat": 4
 },
 "nbformat": 4,
 "nbformat_minor": 2
}
